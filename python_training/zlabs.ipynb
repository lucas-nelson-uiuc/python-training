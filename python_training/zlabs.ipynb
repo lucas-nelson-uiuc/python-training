{
 "cells": [
  {
   "cell_type": "markdown",
   "metadata": {},
   "source": [
    "---\n",
    "#### **Test Jinja Documents**\n",
    "---"
   ]
  },
  {
   "cell_type": "code",
   "execution_count": null,
   "metadata": {},
   "outputs": [],
   "source": [
    "from jinja2 import Environment, FileSystemLoader\n",
    "\n",
    "jinja_env = Environment(loader=FileSystemLoader(\"config\"))\n",
    "solution_template = jinja_env.get_template(\"base_solution.py\")\n",
    "solution_template.render({\n",
    "    \"topic_import_path\": \"sup\",\n",
    "    \"topic_name\": \"YOOOO\"\n",
    "})"
   ]
  },
  {
   "cell_type": "code",
   "execution_count": 13,
   "metadata": {},
   "outputs": [
    {
     "data": {
      "text/plain": [
       "<re.Match object; span=(0, 15), match='random.email.99'>"
      ]
     },
     "execution_count": 13,
     "metadata": {},
     "output_type": "execute_result"
    }
   ],
   "source": [
    "import re\n",
    "\n",
    "email = \"random.email.99@python.org\"\n",
    "address = \"123 99th St, Brooklyn, New York\"\n",
    "\n",
    "# QUESTION 0: what is the username in the user's email address?\n",
    "pattern_username = \"^([a-zA-Z0-9\\.]+)\"\n",
    "email_username = re.search(re.compile(pattern_username), email)"
   ]
  },
  {
   "cell_type": "code",
   "execution_count": 1,
   "metadata": {},
   "outputs": [
    {
     "data": {
      "text/plain": [
       "{'math': <module 'math' from '/Library/Frameworks/Python.framework/Versions/3.10/lib/python3.10/lib-dynload/math.cpython-310-darwin.so'>,\n",
       " 'a': 193,\n",
       " 'b': 17,\n",
       " 'numeric_sum': 210,\n",
       " 'numeric_difference': 176,\n",
       " 'numeric_product': 3281,\n",
       " 'numeric_exponentation': 715276988084107232493829891321892736193,\n",
       " 'numeric_float_division': 11.352941176470589,\n",
       " 'numeric_floor_division': 11,\n",
       " 'numeric_modulus_division': 6}"
      ]
     },
     "execution_count": 1,
     "metadata": {},
     "output_type": "execute_result"
    }
   ],
   "source": [
    "def numeric_binary_operations():\n",
    "    import math\n",
    "    \n",
    "    a = 193\n",
    "    b = 17\n",
    "\n",
    "    # TODO: complete the following statements evaluating the expression: `b` <operation> `a`\n",
    "    numeric_sum = a + b\n",
    "    numeric_difference = a - b\n",
    "    numeric_product = a * b\n",
    "    numeric_exponentation = a ** b\n",
    "    numeric_float_division = a / b\n",
    "    numeric_floor_division = a // b\n",
    "    numeric_modulus_division = a % b\n",
    "\n",
    "    return locals()\n",
    "\n",
    "\n",
    "numeric_binary_operations()"
   ]
  }
 ],
 "metadata": {
  "kernelspec": {
   "display_name": "Python 3",
   "language": "python",
   "name": "python3"
  },
  "language_info": {
   "codemirror_mode": {
    "name": "ipython",
    "version": 3
   },
   "file_extension": ".py",
   "mimetype": "text/x-python",
   "name": "python",
   "nbconvert_exporter": "python",
   "pygments_lexer": "ipython3",
   "version": "3.10.7"
  }
 },
 "nbformat": 4,
 "nbformat_minor": 2
}
