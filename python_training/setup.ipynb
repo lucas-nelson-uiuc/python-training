{
 "cells": [
  {
   "cell_type": "markdown",
   "metadata": {},
   "source": [
    "---\n",
    "#### **Run Configuration Script**\n",
    "---"
   ]
  },
  {
   "cell_type": "code",
   "execution_count": 3,
   "metadata": {},
   "outputs": [],
   "source": [
    "import json\n",
    "from pathlib import Path\n",
    "import config\n",
    "\n",
    "\n",
    "\n",
    "with open(Path(\"config/topics.json\"), \"r\") as fp:\n",
    "    topics_repository = json.load(fp)\n",
    "\n",
    "for topic_json in topics_repository:\n",
    "    training_model = config.TrainingModel(**topic_json)\n",
    "    config.Training(training_model).create_training()"
   ]
  }
 ],
 "metadata": {
  "kernelspec": {
   "display_name": "Python 3",
   "language": "python",
   "name": "python3"
  },
  "language_info": {
   "codemirror_mode": {
    "name": "ipython",
    "version": 3
   },
   "file_extension": ".py",
   "mimetype": "text/x-python",
   "name": "python",
   "nbconvert_exporter": "python",
   "pygments_lexer": "ipython3",
   "version": "3.10.7"
  }
 },
 "nbformat": 4,
 "nbformat_minor": 2
}
