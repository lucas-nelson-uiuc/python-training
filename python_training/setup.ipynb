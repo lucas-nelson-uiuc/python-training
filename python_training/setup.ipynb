{
 "cells": [
  {
   "cell_type": "markdown",
   "metadata": {},
   "source": [
    "---\n",
    "#### **Run Configuration Script**\n",
    "---"
   ]
  },
  {
   "cell_type": "code",
   "execution_count": 1,
   "metadata": {},
   "outputs": [],
   "source": [
    "import json\n",
    "from pathlib import Path\n",
    "import config\n",
    "\n",
    "\n",
    "\n",
    "with open(Path(\"config/topics.json\"), \"r\") as fp:\n",
    "    topics_repository = json.load(fp)\n",
    "\n",
    "for topic_json in topics_repository:\n",
    "    training_model = config.TrainingModel(**topic_json)\n",
    "    config.Training(training_model).create_training()"
   ]
  },
  {
   "cell_type": "markdown",
   "metadata": {},
   "source": [
    "---\n",
    "#### **Test Environment Setup**\n",
    "---"
   ]
  },
  {
   "cell_type": "code",
   "execution_count": null,
   "metadata": {},
   "outputs": [],
   "source": [
    "from topics.basic_syntax_and_data_types.exercises import test_2_strings\n",
    "\n",
    "\n",
    "# Description of exercise\n",
    "\n",
    "\n",
    "SUBMIT_SOLUTION = True\n",
    "\n",
    "\n",
    "def string_repetition():\n",
    "    string_var = \"random\"\n",
    "    # TODO: assign `string_rep` as the value of `string_var` repeated 3 times\n",
    "    string_rep = ...\n",
    "    return locals()\n",
    "\n",
    "\n",
    "def string_concatenation():\n",
    "    first_name = \"First\"\n",
    "    last_name = \"Last\"\n",
    "    # TODO: assign the variable `full_name` as \"First Last\" using string concatenation\n",
    "    full_name = ...\n",
    "    return locals()\n",
    "\n",
    "\n",
    "def string_formatting():\n",
    "    first_name = \"First\"\n",
    "    last_name = \"Last\"\n",
    "    # TODO: assign the variable `full_name` as \"First Last\" using f-string formatting\n",
    "    full_name = ...\n",
    "    return locals()\n",
    "\n",
    "\n",
    "def string_escaping():\n",
    "    # TODO: assign the variable `newline_character` as the newline escape sequence\n",
    "    newline_char = ...\n",
    "    # TODO: assign the variable `tab_character` as the tab escape sequence\n",
    "    tab_char = ...\n",
    "    return locals()"
   ]
  },
  {
   "cell_type": "code",
   "execution_count": null,
   "metadata": {},
   "outputs": [],
   "source": [
    "import importilb\n",
    "import pytest\n",
    "\n",
    "module_name = \"\"\n",
    "importlib.__import__(module_name)\n",
    "\n",
    "# @pytest.mark.parametrize()\n",
    "@pytest.mark.skipif(not SUBMIT_SOLUTION, reason=\"Solution not yet submitted\")\n",
    "class TestUserInput:\n",
    "    def test_string_repetition(self):\n",
    "        return_value = string_repetition().get(\"string_rep\")\n",
    "        assert isinstance(return_value, str)\n",
    "        assert return_value == \"randomrandomrandom\"\n",
    "\n",
    "    def test_string_concatenation(self):\n",
    "        return_value = string_concatenation()\n",
    "        return_keys = (\"first_name\", \"last_name\", \"full_name\")\n",
    "        first_name, last_name, full_name = (\n",
    "            return_value.get(var) for var in return_keys\n",
    "        )\n",
    "        assert all(isinstance(var, str) for var in (first_name, last_name, full_name))\n",
    "        assert full_name == first_name + \" \" + last_name\n",
    "\n",
    "    def test_string_formatting(self):\n",
    "        return_value = string_formatting()\n",
    "        return_keys = (\"first_name\", \"last_name\", \"full_name\")\n",
    "        first_name, last_name, full_name = (\n",
    "            return_value.get(var) for var in return_keys\n",
    "        )\n",
    "        assert all(isinstance(var, str) for var in (first_name, last_name, full_name))\n",
    "        assert full_name == f\"{first_name} {last_name}\"\n",
    "\n",
    "    def test_string_escaping():\n",
    "        return_value = string_escaping()\n",
    "        assert return_value.get(\"newline_char\") == \"\\n\"\n",
    "        assert return_value.get(\"tab_char\") == \"\\t\"\n"
   ]
  },
  {
   "cell_type": "markdown",
   "metadata": {},
   "source": [
    "---"
   ]
  },
  {
   "cell_type": "code",
   "execution_count": null,
   "metadata": {},
   "outputs": [],
   "source": [
    "from jinja2 import Environment, FileSystemLoader\n",
    "\n",
    "jinja_env = Environment(loader=FileSystemLoader(\"config\"))\n",
    "solution_template = jinja_env.get_template(\"base_solution.py\")\n",
    "solution_template.render({\n",
    "    \"topic_import_path\": \"sup\",\n",
    "    \"topic_name\": \"YOOOO\"\n",
    "})"
   ]
  }
 ],
 "metadata": {
  "kernelspec": {
   "display_name": "Python 3",
   "language": "python",
   "name": "python3"
  },
  "language_info": {
   "codemirror_mode": {
    "name": "ipython",
    "version": 3
   },
   "file_extension": ".py",
   "mimetype": "text/x-python",
   "name": "python",
   "nbconvert_exporter": "python",
   "pygments_lexer": "ipython3",
   "version": "3.10.7"
  }
 },
 "nbformat": 4,
 "nbformat_minor": 2
}
