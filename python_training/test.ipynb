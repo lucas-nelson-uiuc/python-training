{
 "cells": [
  {
   "cell_type": "markdown",
   "metadata": {},
   "source": [
    "---\n",
    "#### **Test Jinja Documents**\n",
    "---"
   ]
  },
  {
   "cell_type": "code",
   "execution_count": null,
   "metadata": {},
   "outputs": [],
   "source": [
    "from jinja2 import Environment, FileSystemLoader\n",
    "\n",
    "jinja_env = Environment(loader=FileSystemLoader(\"config\"))\n",
    "solution_template = jinja_env.get_template(\"base_solution.py\")\n",
    "solution_template.render({\n",
    "    \"topic_import_path\": \"sup\",\n",
    "    \"topic_name\": \"YOOOO\"\n",
    "})"
   ]
  },
  {
   "cell_type": "code",
   "execution_count": 13,
   "metadata": {},
   "outputs": [
    {
     "data": {
      "text/plain": [
       "<re.Match object; span=(0, 15), match='random.email.99'>"
      ]
     },
     "execution_count": 13,
     "metadata": {},
     "output_type": "execute_result"
    }
   ],
   "source": [
    "import re\n",
    "\n",
    "email = \"random.email.99@python.org\"\n",
    "address = \"123 99th St, Brooklyn, New York\"\n",
    "\n",
    "# QUESTION 0: what is the username in the user's email address?\n",
    "pattern_username = \"^([a-zA-Z0-9\\.]+)\"\n",
    "email_username = re.search(re.compile(pattern_username), email)"
   ]
  }
 ],
 "metadata": {
  "kernelspec": {
   "display_name": "Python 3",
   "language": "python",
   "name": "python3"
  },
  "language_info": {
   "codemirror_mode": {
    "name": "ipython",
    "version": 3
   },
   "file_extension": ".py",
   "mimetype": "text/x-python",
   "name": "python",
   "nbconvert_exporter": "python",
   "pygments_lexer": "ipython3",
   "version": "3.10.7"
  }
 },
 "nbformat": 4,
 "nbformat_minor": 2
}
