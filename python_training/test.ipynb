{
 "cells": [
  {
   "cell_type": "code",
   "execution_count": 1,
   "metadata": {},
   "outputs": [],
   "source": [
    "import config\n",
    "\n",
    "training = config.Training(name='Functions')\n",
    "training.create_training()"
   ]
  },
  {
   "cell_type": "code",
   "execution_count": null,
   "metadata": {},
   "outputs": [],
   "source": [
    "def user_input():\n",
    "    letters_lower = list()\n",
    "    letters_upper = list()\n",
    "    letters_mixed = list()\n",
    "\n",
    "    ### TODO: create a for loop to populate the following lists:\n",
    "    ###     - letters_lower: all letters \"a\" through \"z\"\n",
    "    ###     - letters_lower: all letters \"a\" through \"Z\"\n",
    "    ###     - letters_lower: all letters \"a\" through \"Z\"\n",
    "\n",
    "    return letters_lower, letters_upper, letters_mixed\n",
    "\n",
    "\n",
    "def test_user_input():\n",
    "    import string\n",
    "\n",
    "    result_lower, result_upper, result_mixed = user_input()\n",
    "\n",
    "    assert result_lower == list(string.ascii_lowercase)\n",
    "    assert result_upper == list(string.ascii_uppercase)\n",
    "    assert set(result_mixed) == set(string.ascii_letters)\n"
   ]
  },
  {
   "cell_type": "code",
   "execution_count": null,
   "metadata": {},
   "outputs": [],
   "source": [
    "# Remember this exercise from `iteration`?\n",
    "#\n",
    "# The solution to that exercise involved repeating the same chunk of code\n",
    "# multiple times with slightly different inputs. Functions are great for\n",
    "# handling code that needs to be executed multiple times. When used with\n",
    "# the right parameters, functions become flexible enough to accommodate a\n",
    "# much greater range of inputs and outputs.\n",
    "#\n",
    "# Just remember that functions should be purposeful. Always reconsider a\n",
    "# function's purpose and don't rule out refactoring its code.\n",
    "\n",
    "\n",
    "def user_input():\n",
    "\n",
    "    ### TODO: create a function that can return the following lists:\n",
    "    ###     - letters_lower: all letters \"a\" through \"z\"\n",
    "    ###     - letters_lower: all letters \"a\" through \"Z\"\n",
    "    ###     - letters_lower: all letters \"a\" through \"Z\"\n",
    "\n",
    "    letters_lower = None\n",
    "    letters_upper = None\n",
    "    letters_mixed = None\n",
    "\n",
    "    return letters_lower, letters_upper, letters_mixed\n",
    "\n",
    "\n",
    "def test_user_input():\n",
    "    import string\n",
    "\n",
    "    result_lower, result_upper, result_mixed = user_input()\n",
    "\n",
    "    assert result_lower == list(string.ascii_lowercase)\n",
    "    assert result_upper == list(string.ascii_uppercase)\n",
    "    assert set(result_mixed) == set(string.ascii_letters)\n"
   ]
  }
 ],
 "metadata": {
  "kernelspec": {
   "display_name": "Python 3",
   "language": "python",
   "name": "python3"
  },
  "language_info": {
   "codemirror_mode": {
    "name": "ipython",
    "version": 3
   },
   "file_extension": ".py",
   "mimetype": "text/x-python",
   "name": "python",
   "nbconvert_exporter": "python",
   "pygments_lexer": "ipython3",
   "version": "3.10.7"
  }
 },
 "nbformat": 4,
 "nbformat_minor": 2
}
